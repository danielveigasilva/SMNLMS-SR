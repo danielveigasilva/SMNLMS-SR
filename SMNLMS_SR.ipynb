{
  "nbformat": 4,
  "nbformat_minor": 0,
  "metadata": {
    "colab": {
      "provenance": [],
      "authorship_tag": "ABX9TyOAe8GLjBdu1ykCtkqZlCYt",
      "include_colab_link": true
    },
    "kernelspec": {
      "name": "python3",
      "display_name": "Python 3"
    },
    "language_info": {
      "name": "python"
    }
  },
  "cells": [
    {
      "cell_type": "markdown",
      "metadata": {
        "id": "view-in-github",
        "colab_type": "text"
      },
      "source": [
        "<a href=\"https://colab.research.google.com/github/danielveigasilva/SMNLMS-SR/blob/main/SMNLMS_SR.ipynb\" target=\"_parent\"><img src=\"https://colab.research.google.com/assets/colab-badge.svg\" alt=\"Open In Colab\"/></a>"
      ]
    },
    {
      "cell_type": "markdown",
      "source": [
        "## **Instalação de Pacotes**"
      ],
      "metadata": {
        "id": "b4VMXvrOUAFF"
      }
    },
    {
      "cell_type": "code",
      "source": [
        "!pip install pysr"
      ],
      "metadata": {
        "id": "7VvJ-_YqUJ8f"
      },
      "execution_count": null,
      "outputs": []
    },
    {
      "cell_type": "markdown",
      "source": [
        "## **Geração de dados SMNLMS**"
      ],
      "metadata": {
        "id": "3yXyGYVjUM-l"
      }
    },
    {
      "cell_type": "code",
      "execution_count": null,
      "metadata": {
        "colab": {
          "base_uri": "https://localhost:8080/",
          "height": 34
        },
        "id": "KhYreb6DPbbW",
        "outputId": "85d7bf15-59dc-43bd-de5e-da3f2a99a8b0"
      },
      "outputs": [
        {
          "output_type": "display_data",
          "data": {
            "text/plain": [
              "<IPython.core.display.HTML object>"
            ],
            "text/html": [
              "\n",
              "        <progress\n",
              "            value='1'\n",
              "            max='3600',\n",
              "            style='width: 100%'\n",
              "        >\n",
              "            1\n",
              "        </progress>\n",
              "    "
            ]
          },
          "metadata": {}
        }
      ],
      "source": [
        "import numpy as np\n",
        "import pandas as pd\n",
        "from IPython.display import HTML, display\n",
        "\n",
        "def progress(value, max):\n",
        "    return HTML(\"\"\"\n",
        "        <progress\n",
        "            value='{value}'\n",
        "            max='{max}',\n",
        "            style='width: 100%'\n",
        "        >\n",
        "            {value}\n",
        "        </progress>\n",
        "    \"\"\".format(value=value, max=max))\n",
        "\n",
        "def evaluateEmpiricalQuantitiesSMNLMS(tauVector , betaVector , NVector , sigmanu2Vector , sigmax2Vector , numberOfIterations , numberOfLastIterations , numberOfRepeats):\n",
        "  MSE = np.zeros((len(tauVector),len(betaVector),len(NVector),len(sigmanu2Vector),len(sigmax2Vector)))\n",
        "  MSD = np.zeros((len(tauVector),len(betaVector),len(NVector),len(sigmanu2Vector),len(sigmax2Vector)))\n",
        "  Pup = np.zeros((len(tauVector),len(betaVector),len(NVector),len(sigmanu2Vector),len(sigmax2Vector)))\n",
        "  total_interactions = len(tauVector) * len(betaVector) * len(NVector) * len(sigmanu2Vector) * len(sigmax2Vector)\n",
        "  total_progress = 0\n",
        "  out = display(progress(0, total_interactions), display_id=True)\n",
        "\n",
        "  for tauIndex in range(len(tauVector)):\n",
        "    for betaIndex in range(len(betaVector)):\n",
        "      for NIndex in range(len(NVector)):\n",
        "        for sigmanu2Index in range(len(sigmanu2Vector)):\n",
        "          for sigmax2Index in range(len(sigmax2Vector)):\n",
        "            total_progress += 1\n",
        "            out.update(progress(total_progress, total_interactions))\n",
        "            #print(str(tauIndex + 1) + '/' + str(len(tauVector)) + ' - ' + str(betaIndex + 1) + '/' + str(len(betaVector)) + ' - ' + str(NIndex + 1) + '/' + str(len(NVector)) + ' - ' + str(sigmanu2Index + 1) + '/' + str(len(sigmanu2Vector)) + ' - ' + str(sigmax2Index + 1) +  '/' + str(len(sigmax2Vector)))\n",
        "\n",
        "            tau = tauVector[tauIndex]\n",
        "            beta = betaVector[betaIndex]\n",
        "            N = NVector[NIndex]\n",
        "            sigmanu2 = sigmanu2Vector[sigmanu2Index]\n",
        "            sigmax2 = sigmax2Vector[sigmax2Index]\n",
        "\n",
        "            for repeat in range(numberOfRepeats):\n",
        "              wk = np.zeros((N,1))\n",
        "              w0 = np.random.randn(N,1)\n",
        "              x  = np.sqrt(sigmax2) * np.random.randn( numberOfIterations + N - 1, 1 )\n",
        "              d  = np.convolve(w0[:,0], x[:,0])\n",
        "              d  += np.sqrt( sigmanu2 ) * np.random.randn(len(d))\n",
        "              gamma = np.sqrt(tau * sigmanu2)\n",
        "\n",
        "              for k in range(N, numberOfIterations + N - 1):\n",
        "                iteration = k - N + 1\n",
        "                xk = x[k:k-N:-1]\n",
        "                yk = np.dot(wk.T, xk)\n",
        "                ek = d[k] - yk\n",
        "\n",
        "                if abs(ek) > gamma:\n",
        "                  mu = 1 - gamma/abs(ek)\n",
        "                  wk = wk + beta * mu / (np.dot(xk.T, xk)) * ek * xk\n",
        "\n",
        "                  if iteration > numberOfIterations - numberOfLastIterations + 1:\n",
        "                    Pup[tauIndex , betaIndex , NIndex , sigmanu2Index , sigmax2Index] += 1 / (numberOfRepeats * numberOfLastIterations)\n",
        "\n",
        "                if iteration > numberOfIterations - numberOfLastIterations + 1:\n",
        "                  MSD[tauIndex , betaIndex , NIndex , sigmanu2Index , sigmax2Index] += np.linalg.norm(wk - w0) ** 2 / (numberOfRepeats * numberOfLastIterations)\n",
        "                  MSE[tauIndex , betaIndex , NIndex , sigmanu2Index , sigmax2Index] += ek.item() ** 2 / (numberOfRepeats * numberOfLastIterations)\n",
        "  return MSE,MSD,Pup\n",
        "\n",
        "\n",
        "tauVector = np.arange(0, 6)\n",
        "betaVector = np.arange(0.1, 1.1, 0.1)\n",
        "NVector = [10, 20, 50]\n",
        "sigmanu2Vector = np.power(10,np.arange(-6, -1), dtype=float)\n",
        "sigmax2Vector = np.power(10,np.arange(-2, 2), dtype=float)\n",
        "numberOfIterations = 50000\n",
        "numberOfLastIterations = 1000\n",
        "numberOfRepeats = 100\n",
        "\n",
        "'''\n",
        "tauVector = np.arange(0, 2)\n",
        "betaVector = np.arange(0.1, 1.1, 0.1)\n",
        "NVector = [10]\n",
        "sigmanu2Vector = np.power(10,np.arange(-6, -1), dtype=float)\n",
        "sigmax2Vector = np.power(10,np.arange(1, 2), dtype=float)\n",
        "numberOfIterations = 50\n",
        "numberOfLastIterations = 1000\n",
        "numberOfRepeats = 100\n",
        "'''\n",
        "\n",
        "MSE,MSD,Pup = evaluateEmpiricalQuantitiesSMNLMS(tauVector,betaVector,NVector,sigmanu2Vector,sigmax2Vector,numberOfIterations,numberOfLastIterations,numberOfRepeats)\n",
        "\n",
        "data = {\n",
        "    'tau': [],\n",
        "    'beta': [],\n",
        "    'N': [],\n",
        "    'sigmanu2': [],\n",
        "    'sigmax2': [],\n",
        "\t'MSE': [],\n",
        "    'MSD': [],\n",
        "    'Pup': [],\n",
        "}\n",
        "\n",
        "\n",
        "for tauIndex in range(len(tauVector)):\n",
        "\t\tfor betaIndex in range(len(betaVector)):\n",
        "\t\t\tfor NIndex in range(len(NVector)):\n",
        "\t\t\t\tfor sigmanu2Index in range(len(sigmanu2Vector)):\n",
        "\t\t\t\t\tfor sigmax2Index in range(len(sigmax2Vector)):\n",
        "\t\t\t\t\t\tdata['tau'].append(tauVector[tauIndex])\n",
        "\t\t\t\t\t\tdata['beta'].append(betaVector[betaIndex])\n",
        "\t\t\t\t\t\tdata['N'].append(NVector[NIndex])\n",
        "\t\t\t\t\t\tdata['sigmanu2'].append(sigmanu2Vector[sigmanu2Index])\n",
        "\t\t\t\t\t\tdata['sigmax2'].append(sigmax2Vector[sigmax2Index])\n",
        "\t\t\t\t\t\tdata['MSE'].append(MSE[tauIndex , betaIndex , NIndex , sigmanu2Index , sigmax2Index])\n",
        "\t\t\t\t\t\tdata['MSD'].append(MSD[tauIndex , betaIndex , NIndex , sigmanu2Index , sigmax2Index])\n",
        "\t\t\t\t\t\tdata['Pup'].append(Pup[tauIndex , betaIndex , NIndex , sigmanu2Index , sigmax2Index])\n",
        "\n",
        "file = './SMNLMS/results.csv'\n",
        "df = pd.DataFrame(data)\n",
        "df.to_csv(file, index=False, header=False)"
      ]
    },
    {
      "cell_type": "markdown",
      "source": [
        "## **Regressão Simbólica**"
      ],
      "metadata": {
        "id": "x3DygLU6VoLD"
      }
    },
    {
      "cell_type": "code",
      "source": [
        "import numpy as np\n",
        "import pandas as pd\n",
        "from pysr import PySRRegressor\n",
        "\n",
        "def RegressaoSimbolica(X,y):\n",
        "\tmodel = PySRRegressor(\n",
        "\t\tparsimony = 0.0001, # padrão = 0.0032\n",
        "\t\tprogress=False,\n",
        "\t\tniterations=100,\n",
        "\t\tweight_randomize=0.001, # default: 0.00023\n",
        "\t\tpopulations=300,\n",
        "\t\tpopulation_size=100,\n",
        "\t\tmodel_selection='score', # 'accuracy', 'best', or 'score'\n",
        "\t\tnested_constraints={\"exp\":{\"exp\": 0},\"log10\":{\"log10\": 0},\"erf\":{\"erf\": 0},\"erfc\":{\"erfc\": 0}},\n",
        "\t\tbinary_operators=[\"+\", \"*\",\"-\",\"^\"],\n",
        "\t\tunary_operators=[\n",
        "\t\t\t\"exp\",\n",
        "\t\t\t\"inv(x) = 1/x\",\n",
        "\t\t\t\"log10\",\n",
        "\t\t\t\"erf\",\n",
        "\t\t\t\"erfc\",\n",
        "\t\t],\n",
        "\t\textra_sympy_mappings={\"inv\": lambda x: 1 / x})\n",
        "\n",
        "\tmodel.fit(X, y)\n",
        "\tprint(model)\n",
        "\n",
        "\tbest_idx = model.equations_.query(\n",
        "\t\tf\"loss < {2 * model.equations_.loss.min()}\"\n",
        "\t).score.idxmax()\n",
        "\tmodel.sympy(best_idx)\n",
        "\n",
        "\tmodel.get_best().equation\n",
        "\n",
        "arr = np.loadtxt( file , delimiter = ',' , dtype = float)\n",
        "\n",
        "#tau beta N sigmanu2 sigmax2\n",
        "X = arr[ : ,  [ 0 , 1 , 2 , 3 , 4 ] ]\n"
      ],
      "metadata": {
        "id": "oHtz2oBaUijL"
      },
      "execution_count": null,
      "outputs": []
    },
    {
      "cell_type": "code",
      "source": [
        "RegressaoSimbolica(X, arr[ : , 5 ])"
      ],
      "metadata": {
        "id": "tt11yW3DVgY6"
      },
      "execution_count": null,
      "outputs": []
    },
    {
      "cell_type": "code",
      "source": [
        "RegressaoSimbolica(X, arr[ : , 6 ])"
      ],
      "metadata": {
        "id": "51lOo-90Viat"
      },
      "execution_count": null,
      "outputs": []
    },
    {
      "cell_type": "code",
      "source": [
        "RegressaoSimbolica(X, arr[ : , 7 ])"
      ],
      "metadata": {
        "id": "hWVyVo-TVi2w"
      },
      "execution_count": null,
      "outputs": []
    }
  ]
}